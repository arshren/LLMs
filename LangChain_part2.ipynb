{
 "cells": [
  {
   "cell_type": "markdown",
   "id": "72bfc409",
   "metadata": {},
   "source": [
    "## Models"
   ]
  },
  {
   "cell_type": "code",
   "execution_count": 1,
   "id": "2510a713",
   "metadata": {},
   "outputs": [
    {
     "name": "stdout",
     "output_type": "stream",
     "text": [
      "\n",
      "\n",
      "Clustering is a type of unsupervised machine learning algorithm that groups data points into clusters based on their similarity. It is used to identify patterns and group similar data points together.\n",
      "\n",
      "Use cases of clustering in banking:\n",
      "\n",
      "1. Customer segmentation: Clustering can be used to segment customers into different groups based on their spending habits, income levels, and other demographic information. This can help banks better understand their customer base and target them with more relevant products and services.\n",
      "\n",
      "2. Fraud detection: Clustering can be used to detect fraudulent transactions by grouping together transactions that have similar characteristics. This can help banks identify suspicious activity and take appropriate action.\n",
      "\n",
      "3. Credit scoring: Clustering can be used to group customers into different credit score categories. This can help banks better assess the risk associated with lending to a particular customer.\n",
      "\n",
      "4. Risk management: Clustering can be used to group customers into different risk categories. This can help banks better understand the risk associated with a particular customer and take appropriate action.\n",
      "\n",
      "5. Investment portfolio optimization: Clustering can be used to group customers into different investment portfolios. This can help banks better understand the risk associated with a particular customer and create a portfolio\n"
     ]
    }
   ],
   "source": [
    "from dotenv import load_dotenv\n",
    "import os\n",
    "from langchain.llms import OpenAI\n",
    "\n",
    "#Extract the OPENAI_API_KEY\n",
    "LLM_KEY=os.environ.get(\"OPENAI_API_KEY\")\n",
    "\n",
    "#Create an instance of the OpenAI class\n",
    "llm=OpenAI(model='text-davinci-003', temperature=0)\n",
    "\n",
    "#An input prompt for the OpenAI LLM\n",
    "text=\"Explain clustering and explain 5 use cases that can be applied in Banking\"\n",
    "output= llm(text)\n",
    "print(output)"
   ]
  },
  {
   "cell_type": "markdown",
   "id": "2f009855",
   "metadata": {},
   "source": [
    "## Building Dynamic Prompts"
   ]
  },
  {
   "cell_type": "code",
   "execution_count": 2,
   "id": "5ca5519d",
   "metadata": {},
   "outputs": [
    {
     "name": "stdout",
     "output_type": "stream",
     "text": [
      "\n",
      "\n",
      "The Kalman Filter is an algorithm used to estimate the state of a system from noisy measurements. It is a recursive algorithm that uses a combination of linear and nonlinear models to estimate the state of a system over time. The Kalman Filter is widely used in many fields, including robotics, navigation, and control systems.\n",
      "\n",
      "The Kalman Filter is used in manufacturing to improve the accuracy of measurements and reduce the amount of noise in the system. Here are five use cases of the Kalman Filter in manufacturing:\n",
      "\n",
      "1. Automated Quality Control: The Kalman Filter can be used to detect and correct errors in the manufacturing process. It can be used to detect and correct errors in the production line, such as incorrect parts or incorrect assembly.\n",
      "\n",
      "2. Predictive Maintenance: The Kalman Filter can be used to predict when a machine will need maintenance. This can help reduce downtime and improve efficiency.\n",
      "\n",
      "3. Process Optimization: The Kalman Filter can be used to optimize the manufacturing process. It can be used to identify and reduce bottlenecks in the production line.\n",
      "\n",
      "4. Automated Inventory Management: The Kalman Filter can be used to track inventory levels and predict when more parts will be needed. This can help\n"
     ]
    }
   ],
   "source": [
    "#Importing required libraries\n",
    "from langchain.prompts import PromptTemplate\n",
    "from dotenv import load_dotenv\n",
    "import os\n",
    "from langchain.llms import OpenAI\n",
    "\n",
    "#gets the OpenAI API key\n",
    "LLM_KEY=os.environ.get(\"OPENAI_API_KEY\")\n",
    "\n",
    "# Creates LLM using OpenAI's davinci model\n",
    "llm=OpenAI(model='text-davinci-003', temperature=0)\n",
    "\n",
    "#defines a Prompt Template\n",
    "prompt_template='''You are an AI Expert, explain AI algorithm{algorithm} \n",
    "                and share 5 use cases that can be applied in {industry}'''\n",
    "\n",
    "#Create an Instance of Prompt Template\n",
    "prompt= PromptTemplate(input_variables=['algorithm', 'industry'],\n",
    "                        template=prompt_template)\n",
    "#Dynamically pass the input variables to the prompt\n",
    "output=llm(prompt.format(algorithm='Kalman Filter', industry='Manufacturing'))\n",
    "print(output)"
   ]
  },
  {
   "cell_type": "markdown",
   "id": "7c17c0f3",
   "metadata": {},
   "source": [
    "## Indexes to store documents"
   ]
  },
  {
   "cell_type": "code",
   "execution_count": 15,
   "id": "daf0a5f8",
   "metadata": {},
   "outputs": [
    {
     "name": "stdout",
     "output_type": "stream",
     "text": [
      "Found model file at  /Users/renukhandelwal/Downloads/GPT4All-13B-snoozy.ggmlv3.q4_0.bin\n",
      "llama_new_context_with_model: max tensor size =    87.89 MB\n"
     ]
    },
    {
     "name": "stderr",
     "output_type": "stream",
     "text": [
      "llama.cpp: using Metal\n",
      "llama.cpp: loading model from /Users/renukhandelwal/Downloads/GPT4All-13B-snoozy.ggmlv3.q4_0.bin\n",
      "llama_model_load_internal: format     = ggjt v3 (latest)\n",
      "llama_model_load_internal: n_vocab    = 32000\n",
      "llama_model_load_internal: n_ctx      = 2048\n",
      "llama_model_load_internal: n_embd     = 5120\n",
      "llama_model_load_internal: n_mult     = 256\n",
      "llama_model_load_internal: n_head     = 40\n",
      "llama_model_load_internal: n_layer    = 40\n",
      "llama_model_load_internal: n_rot      = 128\n",
      "llama_model_load_internal: ftype      = 2 (mostly Q4_0)\n",
      "llama_model_load_internal: n_ff       = 13824\n",
      "llama_model_load_internal: n_parts    = 1\n",
      "llama_model_load_internal: model size = 13B\n",
      "llama_model_load_internal: ggml ctx size =    0.09 MB\n",
      "llama_model_load_internal: mem required  = 9031.70 MB (+ 1608.00 MB per state)\n",
      "llama_new_context_with_model: kv self size  = 1600.00 MB\n",
      "ggml_metal_init: allocating\n",
      "ggml_metal_init: using MPS\n",
      "ggml_metal_init: loading '/Users/renukhandelwal/anaconda3/envs/gpt1/lib/python3.9/site-packages/gpt4all/llmodel_DO_NOT_MODIFY/build/ggml-metal.metal'\n",
      "ggml_metal_init: loaded kernel_add                            0x529ad2f80\n",
      "ggml_metal_init: loaded kernel_mul                            0x529a5dfe0\n",
      "ggml_metal_init: loaded kernel_mul_row                        0x52a616b50\n",
      "ggml_metal_init: loaded kernel_scale                          0x52a6327c0\n",
      "ggml_metal_init: loaded kernel_silu                           0x54d13dc20\n",
      "ggml_metal_init: loaded kernel_relu                           0x52a63bd00\n",
      "ggml_metal_init: loaded kernel_gelu                           0x54dcd88b0\n",
      "ggml_metal_init: loaded kernel_soft_max                       0x54dcae4a0\n",
      "ggml_metal_init: loaded kernel_diag_mask_inf                  0x54dc2a6c0\n",
      "ggml_metal_init: loaded kernel_get_rows_f16                   0x54d7b2da0\n",
      "ggml_metal_init: loaded kernel_get_rows_q4_0                  0x51a24ee60\n",
      "ggml_metal_init: loaded kernel_get_rows_q4_1                  0x51a2e5360\n",
      "ggml_metal_init: loaded kernel_get_rows_q2_k                  0x51a4f5b90\n",
      "ggml_metal_init: loaded kernel_get_rows_q3_k                  0x51a48b290\n",
      "ggml_metal_init: loaded kernel_get_rows_q4_k                  0x51a4cfd00\n",
      "ggml_metal_init: loaded kernel_get_rows_q5_k                  0x51a476f80\n",
      "ggml_metal_init: loaded kernel_get_rows_q6_k                  0x51a4ac1b0\n",
      "ggml_metal_init: loaded kernel_rms_norm                       0x51a4b9bc0\n",
      "ggml_metal_init: loaded kernel_norm                           0x51a464f00\n",
      "ggml_metal_init: loaded kernel_mul_mat_f16_f32                0x51a4f6690\n",
      "ggml_metal_init: loaded kernel_mul_mat_q4_0_f32               0x51a4b5020\n",
      "ggml_metal_init: loaded kernel_mul_mat_q4_1_f32               0x51a4e6160\n",
      "ggml_metal_init: loaded kernel_mul_mat_q2_k_f32               0x51a4c45a0\n",
      "ggml_metal_init: loaded kernel_mul_mat_q3_k_f32               0x51a4ac600\n",
      "ggml_metal_init: loaded kernel_mul_mat_q4_k_f32               0x51a46c310\n",
      "ggml_metal_init: loaded kernel_mul_mat_q5_k_f32               0x51a4c61d0\n",
      "ggml_metal_init: loaded kernel_mul_mat_q6_k_f32               0x51a4866f0\n",
      "ggml_metal_init: loaded kernel_rope                           0x51a4cbe60\n",
      "ggml_metal_init: loaded kernel_alibi_f32                      0x51a4a38f0\n",
      "ggml_metal_init: loaded kernel_cpy_f32_f16                    0x51a48ed00\n",
      "ggml_metal_init: loaded kernel_cpy_f32_f32                    0x51a462e20\n",
      "ggml_metal_init: loaded kernel_cpy_f16_f16                    0x51a474700\n",
      "ggml_metal_init: recommendedMaxWorkingSetSize = 21845.34 MB\n",
      "ggml_metal_init: hasUnifiedMemory             = true\n",
      "ggml_metal_init: maxTransferRate              = built-in GPU\n",
      "ggml_metal_add_buffer: allocated 'data            ' buffer, size =  6984.06 MB, (28253.88 / 21845.34), warning: current allocated size is greater than the recommended max working set size\n",
      "ggml_metal_add_buffer: allocated 'eval            ' buffer, size =  1024.00 MB, (29277.88 / 21845.34), warning: current allocated size is greater than the recommended max working set size\n",
      "ggml_metal_add_buffer: allocated 'kv              ' buffer, size =  1602.00 MB, (30879.88 / 21845.34), warning: current allocated size is greater than the recommended max working set size\n",
      "ggml_metal_add_buffer: allocated 'scr0            ' buffer, size =   512.00 MB, (31391.88 / 21845.34), warning: current allocated size is greater than the recommended max working set size\n",
      "ggml_metal_add_buffer: allocated 'scr1            ' buffer, size =   512.00 MB, (31903.88 / 21845.34), warning: current allocated size is greater than the recommended max working set size\n"
     ]
    },
    {
     "name": "stdout",
     "output_type": "stream",
     "text": [
      "\n",
      "\n",
      "\u001b[1m> Entering new RetrievalQA chain...\u001b[0m\n",
      " The document discusses various tools and technologies related to natural language processing (NLP) for chatbots, including Prompt Sapper, ChatGPT, Langchain, and Stork Tech's collaboration platform. It also mentions some practical applications such as generating images from text descriptions using zero-shot techniques or creating a customizable chatbot interface with Figma and Jupyter notebooks. The document concludes by highlighting the potential of these tools for time-saving, cost-effective solutions in various industries like healthcare, finance, retail, and customer service.\n",
      "\u001b[1m> Finished chain.\u001b[0m\n",
      "{'query': 'what is the gist of this document', 'result': \" The document discusses various tools and technologies related to natural language processing (NLP) for chatbots, including Prompt Sapper, ChatGPT, Langchain, and Stork Tech's collaboration platform. It also mentions some practical applications such as generating images from text descriptions using zero-shot techniques or creating a customizable chatbot interface with Figma and Jupyter notebooks. The document concludes by highlighting the potential of these tools for time-saving, cost-effective solutions in various industries like healthcare, finance, retail, and customer service.\", 'source_documents': [Document(page_content='2000.\\n[55] (2023) Figma: the collaborative interface design tool. https://www.figma.com/. Accessed: 16/06/2023.\\n[56] (2023) Jupyter notebook: The classic notebook interface. https://jupyter.org/. Accessed: 16/06/2023.\\nJ. ACM, Vol. 37, No. 4, Article 111. Publication date: August 2018.', metadata={'source': './downloads/LLM_chains.pdf', 'page': 17}), Document(page_content='worker hierarchy, as well as any traditional code blocks for user input and control structure.\\nCode Block: The Code tab includes traditional programming constructs such as console input,\\nconsole output, assignment, if, for, while blocks (Fig. 2 6). Users can drag and drop the required\\ncode blocks into the editor and assemble them with the worker/container blocks by dragging and\\ndropping. If a worker block needs to output information to end-users, it need to be placed in an\\nOutput block (see the lower part of Fig. 2 5). Then, the output of this worker will be displayed\\nJ. ACM, Vol. 37, No. 4, Article 111. Publication date: August 2018.', metadata={'source': './downloads/LLM_chains.pdf', 'page': 9}), Document(page_content='and practicality of Prompt Sapper, showcasing its significant time-saving capabilities compared to\\ntraditional IDEs. The tool eliminates the need to learn various API calls and minimizes time spent\\non resource searching.\\nREFERENCES\\n[1] Openai, “Introducing chatgpt,” https://openai.com/blog/chatgpt, 2023, accessed: 2/04/2023.\\n[2]A. Ramesh, M. Pavlov, G. Goh, S. Gray, C. Voss, A. Radford, M. Chen, and I. Sutskever, “Zero-shot text-to-image\\ngeneration,” in International Conference on Machine Learning . PMLR, 2021, pp. 8821–8831.\\n[3] I. Stork Tech. (2023) Collaboration for hybrid teams. https://www.stork.ai/. Accessed: 16/06/2023.\\n[4] OpenAI. (2023) Chatgpt. https://chat.openai.com/. Accessed: 16/06/2023.\\n[5] H. Chase. (2023) Welcome to langchain. https://python.langchain.com/en/latest/index.html. Accessed: 16/06/2023.\\n[6]Y. Levine, I. Dalmedigos, O. Ram, Y. Zeldes, D. Jannai, D. Muhlgay, Y. Osin, O. Lieber, B. Lenz, S. Shalev-Shwartz et al. ,', metadata={'source': './downloads/LLM_chains.pdf', 'page': 16})]}\n"
     ]
    }
   ],
   "source": [
    "from langchain import PromptTemplate, LLMChain\n",
    "from langchain.llms import GPT4All\n",
    "from langchain.callbacks.streaming_stdout import StreamingStdOutCallbackHandler\n",
    "from langchain.chains import RetrievalQA\n",
    "from langchain.chains.question_answering import load_qa_chain\n",
    "from langchain.vectorstores import FAISS\n",
    "from langchain.text_splitter import RecursiveCharacterTextSplitter\n",
    "from langchain.document_loaders import PyPDFLoader\n",
    "from langchain.embeddings import HuggingFaceEmbeddings\n",
    "\n",
    "# path of the document which we need to Q&A\n",
    "file_path=\"./downloads/LLM_chains.pdf\"\n",
    "\n",
    "#Load the PDF \n",
    "loader = PyPDFLoader(file_path)\n",
    "documents = loader.load_and_split()\n",
    "\n",
    "# After Loading the document, split it into chunks\n",
    "text_splitter = RecursiveCharacterTextSplitter(chunk_size=1000, chunk_overlap=100)\n",
    "documents = text_splitter.split_documents(documents)\n",
    "\n",
    "#Create the huggingface embeedings\n",
    "embeddings = HuggingFaceEmbeddings(\n",
    "    model_name=\"sentence-transformers/all-MiniLM-L6-v2\"\n",
    ")\n",
    "#embed each chunk and load it into the FAISS vector store.\n",
    "faiss_db = FAISS.from_documents(documents, embeddings)\n",
    "\n",
    "#Load the GPT4ALL\n",
    "local_path = (\n",
    "    \"/Users/renukhandelwal/Downloads/GPT4All-13B-snoozy.ggmlv3.q4_0.bin\"  # replace with your desired local file path\n",
    "    )\n",
    "\n",
    "# Callbacks support token-wise streaming\n",
    "callbacks = [StreamingStdOutCallbackHandler()]\n",
    "\n",
    "# Verbose is required to pass to the callback manager\n",
    "llm = GPT4All( model=local_path, callbacks=callbacks,max_tokens=5000,  \n",
    "backend=\"gptj\")\n",
    "\n",
    "# Build RetrievalQA\n",
    "qa = RetrievalQA.from_chain_type(\n",
    "    llm=llm,\n",
    "    chain_type=\"stuff\",\n",
    "    retriever=faiss_db.as_retriever(search_kwargs={\"k\": 3}),\n",
    "    return_source_documents=True,\n",
    "    verbose=True,\n",
    ")\n",
    "answer= qa(\"what is the gist of this document\")\n",
    "print(answer)"
   ]
  },
  {
   "cell_type": "markdown",
   "id": "a040a1c4",
   "metadata": {},
   "source": [
    "## Memory"
   ]
  },
  {
   "cell_type": "code",
   "execution_count": 5,
   "id": "e7dc7ebf",
   "metadata": {},
   "outputs": [
    {
     "name": "stdout",
     "output_type": "stream",
     "text": [
      "\n",
      "\n",
      "\u001b[1m> Entering new ConversationChain chain...\u001b[0m\n",
      "Prompt after formatting:\n",
      "\u001b[32;1m\u001b[1;3mThe following is a friendly conversation between a human and an AI. The AI is talkative and provides lots of specific details from its context. If the AI does not know the answer to a question, it truthfully says it does not know.\n",
      "\n",
      "Current conversation:\n",
      "[HumanMessage(content=\"share Warren Buffet's accomplishments\", additional_kwargs={}, example=False)]\n",
      "Human: Share his investment advises\n",
      "AI:\u001b[0m\n",
      " Sure! Here are some of the key takeaways from my training data on Warren Buffett's investment advice:\n",
      "\n",
      "1. Invest in what you know: This is one of Buffett's most famous pieces of advice, and it has served him well over his career as an investor. He believes that if you have a deep understanding of the company or industry you are investing in, then you will be better equipped to make informed decisions about your investments.\n",
      "2. Be patient: Buffett is known for taking a long-term approach to investing and holding onto his stocks for many years at a time. He believes that this patience allows him to take advantage of market fluctuations and ultimately leads to better returns over the long term.\n",
      "3. Diversify your portfolio: Buffett is known for having a diversified portfolio, which he has built up through his investment company Berkshire Hathaway. He believes that this approach helps to minimize risk by spreading out investments across different sectors and industries.\n",
      "4. Keep it simple: Another key piece of advice from Buffett is to keep things as simple as possible when making investment dec\n",
      "\u001b[1m> Finished chain.\u001b[0m\n",
      "\n",
      "\n",
      "\u001b[1m> Entering new ConversationChain chain...\u001b[0m\n",
      "Prompt after formatting:\n",
      "\u001b[32;1m\u001b[1;3mThe following is a friendly conversation between a human and an AI. The AI is talkative and provides lots of specific details from its context. If the AI does not know the answer to a question, it truthfully says it does not know.\n",
      "\n",
      "Current conversation:\n",
      "[HumanMessage(content=\"share Warren Buffet's accomplishments\", additional_kwargs={}, example=False), HumanMessage(content='Share his investment advises', additional_kwargs={}, example=False), AIMessage(content=\" Sure! Here are some of the key takeaways from my training data on Warren Buffett's investment advice:\\n\\n1. Invest in what you know: This is one of Buffett's most famous pieces of advice, and it has served him well over his career as an investor. He believes that if you have a deep understanding of the company or industry you are investing in, then you will be better equipped to make informed decisions about your investments.\\n2. Be patient: Buffett is known for taking a long-term approach to investing and holding onto his stocks for many years at a time. He believes that this patience allows him to take advantage of market fluctuations and ultimately leads to better returns over the long term.\\n3. Diversify your portfolio: Buffett is known for having a diversified portfolio, which he has built up through his investment company Berkshire Hathaway. He believes that this approach helps to minimize risk by spreading out investments across different sectors and industries.\\n4. Keep it simple: Another key piece of advice from Buffett is to keep things as simple as possible when making investment dec\", additional_kwargs={}, example=False)]\n",
      "Human: Share Warren's friend's work and accomplishments\n",
      "AI:\u001b[0m\n",
      " Sure! Here are some of the key takeaways from my training data on Warren Buffet's investment advice:\n",
      "1. Invest in what you know: This is one of Buffett's most famous pieces of advice, and it has served him well over his career as an investor. He believes that if you have a deep understanding of the company or industry you are investing in, then you will be better equipped to make informed decisions about your investments.\n",
      "2. Be patient: Buffett is known for taking a long-term approach to investing and holding onto his stocks for many years at a time. He believes that this patience allows him to take advantage of market fluctuations and ultimately leads to better returns over the long term.\n",
      "3. Diversify your portfolio: Buffett is known for having a diversified portfolio, which he has built up through his investment company Berkshire Hathaway. He believes that this approach helps to minimize risk by spreading out investments across different sectors and industries.\n",
      "4. Keep it simple: Another key piece of advice from Buffett is to keep things as simple as possible when making investment decisions\n",
      "\u001b[1m> Finished chain.\u001b[0m\n"
     ]
    },
    {
     "data": {
      "text/plain": [
       "\" Sure! Here are some of the key takeaways from my training data on Warren Buffet's investment advice:\\n1. Invest in what you know: This is one of Buffett's most famous pieces of advice, and it has served him well over his career as an investor. He believes that if you have a deep understanding of the company or industry you are investing in, then you will be better equipped to make informed decisions about your investments.\\n2. Be patient: Buffett is known for taking a long-term approach to investing and holding onto his stocks for many years at a time. He believes that this patience allows him to take advantage of market fluctuations and ultimately leads to better returns over the long term.\\n3. Diversify your portfolio: Buffett is known for having a diversified portfolio, which he has built up through his investment company Berkshire Hathaway. He believes that this approach helps to minimize risk by spreading out investments across different sectors and industries.\\n4. Keep it simple: Another key piece of advice from Buffett is to keep things as simple as possible when making investment decisions\""
      ]
     },
     "execution_count": 5,
     "metadata": {},
     "output_type": "execute_result"
    }
   ],
   "source": [
    "from langchain.chains import ConversationChain\n",
    "from langchain.memory import ConversationBufferMemory\n",
    "memory= ConversationBufferMemory(return_messages=True)\n",
    "memory.chat_memory.add_user_message(\"share Warren Buffet's accomplishments\")\n",
    "memory.load_memory_variables({})\n",
    "conversation = ConversationChain(llm=llm, verbose=True, memory=memory)\n",
    "conversation.predict(input=\"Share his investment advises\")\n",
    "conversation.predict(input=\"Share Warren's friend's work and accomplishments\")"
   ]
  },
  {
   "cell_type": "code",
   "execution_count": 6,
   "id": "2e1e83e1",
   "metadata": {},
   "outputs": [],
   "source": [
    "## Chains"
   ]
  },
  {
   "cell_type": "code",
   "execution_count": 7,
   "id": "053ee855",
   "metadata": {},
   "outputs": [
    {
     "name": "stdout",
     "output_type": "stream",
     "text": [
      "\n",
      "\n",
      "\u001b[1m> Entering new SimpleSequentialChain chain...\u001b[0m\n",
      "\u001b[36;1m\u001b[1;3mAs an investment expert, I can provide you with some investment strategies that may be suitable for a 45-year-old individual. However, it's important to note that investment decisions should be based on your specific financial goals, risk tolerance, and time horizon. It is always recommended to consult with a financial advisor before making any investment decisions. Here are some strategies to consider:\n",
      "\n",
      "1. Diversify your portfolio: Diversification is key to managing risk. Allocate your investments across different asset classes such as stocks, bonds, real estate, and commodities. This helps to reduce the impact of any single investment's performance on your overall portfolio.\n",
      "\n",
      "2. Invest in retirement accounts: Maximize contributions to retirement accounts like 401(k) or Individual Retirement Accounts (IRAs). These accounts offer tax advantages and can provide a solid foundation for your retirement savings.\n",
      "\n",
      "3. Consider a mix of growth and income investments: At 45, you may have a longer investment horizon, allowing you to take on some growth-oriented investments. Consider investing in a mix of growth stocks, mutual funds, or exchange-traded funds (ETFs) that have the potential for capital appreciation. Additionally, include income-generating investments like dividend-paying stocks or bonds to provide a steady stream of income.\n",
      "\n",
      "4. Invest in index funds or ETFs: These investment vehicles offer broad market exposure and are generally low-cost. They can be a good option for long-term investors who want to passively track the performance of the overall market.\n",
      "\n",
      "5. Real estate investments: Consider diversifying your portfolio by investing in real estate. This can be done through purchasing rental properties, real estate investment trusts (REITs), or real estate crowdfunding platforms. Real estate investments can provide both income and potential appreciation over time.\n",
      "\n",
      "6. Regularly review and rebalance your portfolio: As you age, it's important to periodically review your investment portfolio and rebalance it to align with your changing goals and risk tolerance. This ensures that your investments remain in line with your long-term objectives.\n",
      "\n",
      "Remember, these strategies are general recommendations and may not be suitable for everyone. It's crucial to assess your individual financial situation and consult with a professional advisor who can provide personalized guidance based on your specific needs and goals.\u001b[0m\n",
      "\u001b[33;1m\u001b[1;3mFor maximum short-term growth, here are some investment instruments to consider:\n",
      "\n",
      "1. Stocks: Investing in individual stocks of companies with strong growth potential can provide significant short-term returns. However, this strategy comes with higher risk, so thorough research and analysis are necessary.\n",
      "\n",
      "2. Growth-oriented mutual funds: Mutual funds that focus on growth stocks can provide diversification and professional management while targeting companies with high growth potential.\n",
      "\n",
      "3. Technology sector: Investing in technology companies can offer substantial short-term growth opportunities due to rapid advancements and innovation in the sector.\n",
      "\n",
      "4. High-yield bonds: Bonds with higher yields, such as corporate bonds or high-yield bond funds, can provide attractive short-term returns. However, they also come with higher risk compared to investment-grade bonds.\n",
      "\n",
      "5. Sector-specific ETFs: Exchange-traded funds that track specific sectors, such as healthcare, renewable energy, or emerging markets, can provide exposure to industries with potential for rapid growth.\n",
      "\n",
      "6. Initial Public Offerings (IPOs): Participating in IPOs of promising companies can offer the opportunity for significant short-term gains. However, IPOs can be highly volatile and risky, so thorough research is essential.\n",
      "\n",
      "It's important to note that investing for short-term growth involves higher risk and volatility. It's crucial to carefully assess your risk tolerance and financial goals before considering these investment instruments. Consulting with a financial advisor can help you determine the most suitable options for your specific needs.\u001b[0m\n",
      "\n",
      "\u001b[1m> Finished chain.\u001b[0m\n"
     ]
    }
   ],
   "source": [
    "from langchain.chains import SimpleSequentialChain, LLMChain\n",
    "from langchain.chat_models import ChatOpenAI\n",
    "from langchain.prompts import PromptTemplate\n",
    "llm= ChatOpenAI(temperature=0)\n",
    "template='''As an Investment expert, share  best investments strategies for a {year} old'''\n",
    "prompt=PromptTemplate(input_variables=[ \"year\"], template=template)\n",
    "basic_investment_chain=LLMChain(prompt=prompt, llm=llm)\n",
    "# next chain\n",
    "template='''Given the investment advise {advise}, share the investment instruments for maximum short term growth'''\n",
    "prompt=PromptTemplate(input_variables=[\"advise\"], template=template)\n",
    "detailed_investment_chain=LLMChain(prompt=prompt, llm=llm)\n",
    "final_chain=SimpleSequentialChain(chains=[basic_investment_chain, detailed_investment_chain], verbose=True)\n",
    "output=final_chain.run(45)"
   ]
  },
  {
   "cell_type": "code",
   "execution_count": 8,
   "id": "1ce68f05",
   "metadata": {},
   "outputs": [],
   "source": [
    "## Agents"
   ]
  },
  {
   "cell_type": "code",
   "execution_count": 9,
   "id": "0cd2c627",
   "metadata": {},
   "outputs": [
    {
     "name": "stdout",
     "output_type": "stream",
     "text": [
      "\n",
      "\n",
      "\u001b[1m> Entering new AgentExecutor chain...\u001b[0m\n",
      "\u001b[32;1m\u001b[1;3mThought: I need to count the rows\n",
      "Action: python_repl_ast\n",
      "Action Input: len(df)\u001b[0m\n",
      "Observation: \u001b[36;1m\u001b[1;3m32561\u001b[0m\n",
      "Thought:\u001b[32;1m\u001b[1;3m I now know the final answer\n",
      "Final Answer: There are 32561 rows in the csv.\u001b[0m\n",
      "\n",
      "\u001b[1m> Finished chain.\u001b[0m\n"
     ]
    },
    {
     "data": {
      "text/plain": [
       "'There are 32561 rows in the csv.'"
      ]
     },
     "execution_count": 9,
     "metadata": {},
     "output_type": "execute_result"
    }
   ],
   "source": [
    "from langchain.agents.agent_types import AgentType\n",
    "from langchain.agents import create_csv_agent\n",
    "from langchain.chat_models import ChatOpenAI\n",
    "# initialize the agent using the ZERO_SHOT_REACT_DESCRIPTION agent type.\n",
    "agent=create_csv_agent(\n",
    "    OpenAI(temperature=0),\n",
    "    \"./downloads/adult.csv\",\n",
    "    verbose=True,\n",
    "    agent_type=AgentType.ZERO_SHOT_REACT_DESCRIPTION,\n",
    ")\n",
    "agent.run(\"how many rows are there in the csv?\")"
   ]
  },
  {
   "cell_type": "code",
   "execution_count": null,
   "id": "f1a4ad72",
   "metadata": {},
   "outputs": [],
   "source": []
  }
 ],
 "metadata": {
  "kernelspec": {
   "display_name": "Python 3 (ipykernel)",
   "language": "python",
   "name": "python3"
  },
  "language_info": {
   "codemirror_mode": {
    "name": "ipython",
    "version": 3
   },
   "file_extension": ".py",
   "mimetype": "text/x-python",
   "name": "python",
   "nbconvert_exporter": "python",
   "pygments_lexer": "ipython3",
   "version": "3.9.16"
  }
 },
 "nbformat": 4,
 "nbformat_minor": 5
}
